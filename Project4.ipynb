{
 "cells": [
  {
   "cell_type": "markdown",
   "id": "1d54daeb-b4e5-4357-9db5-d3fd94648cab",
   "metadata": {},
   "source": [
    "# project 4\n",
    "---\n",
    "## Predicting outcomes with Machine Learning algorithm\n",
    "---\n",
    "### Retrieving the dataset"
   ]
  },
  {
   "cell_type": "code",
   "execution_count": 5,
   "id": "f30243c1-27c6-4de3-ba51-ebdaf0fb30d7",
   "metadata": {},
   "outputs": [],
   "source": [
    "# Import our dependencies\n",
    "from sklearn.model_selection import train_test_split\n",
    "from sklearn.preprocessing import StandardScaler\n",
    "import pandas as pd\n",
    "import tensorflow as tf\n",
    "\n",
    "#  Import and read the dataset\n"
   ]
  },
  {
   "cell_type": "markdown",
   "id": "f4185025-ac59-47ff-b341-30b4e38e881c",
   "metadata": {},
   "source": [
    "### Preprocessing"
   ]
  },
  {
   "cell_type": "code",
   "execution_count": 7,
   "id": "bc694957-0300-458d-a083-5944112a5c6c",
   "metadata": {},
   "outputs": [],
   "source": [
    "# Drop the non-beneficial columns"
   ]
  },
  {
   "cell_type": "code",
   "execution_count": null,
   "id": "b024c1e9-29e1-4864-97f9-3ae20d029b53",
   "metadata": {},
   "outputs": [],
   "source": [
    "# Determine the number of unique values in each column.\n",
    "df.nunique()"
   ]
  },
  {
   "cell_type": "code",
   "execution_count": null,
   "id": "bee64d06-d21e-44f4-b1ab-22c608e561c4",
   "metadata": {},
   "outputs": [],
   "source": [
    "# Convert categorical data to numeric with `pd.get_dummies`"
   ]
  },
  {
   "cell_type": "code",
   "execution_count": null,
   "id": "1f5af60f-8b44-40ff-98e1-7af6580c5fc3",
   "metadata": {},
   "outputs": [],
   "source": [
    "# Split our preprocessed data into our features and target arrays\n",
    "y = \n",
    "X = \n",
    "\n",
    "# Split the preprocessed data into a training and testing dataset\n",
    "X_train , X_test , y_train , y_test = train_test_split(X,y , random_state = 78)"
   ]
  },
  {
   "cell_type": "code",
   "execution_count": null,
   "id": "aa0c93b1-607e-40c3-8e09-4bcb40eecaf2",
   "metadata": {},
   "outputs": [],
   "source": [
    "# Create a StandardScaler instances\n",
    "scaler = StandardScaler()\n",
    "\n",
    "# Fit the StandardScaler\n",
    "X_scaler = scaler.fit(X_train)\n",
    "\n",
    "# Scale the data\n",
    "X_train_scaled = X_scaler.transform(X_train)\n",
    "X_test_scaled = X_scaler.transform(X_test)"
   ]
  },
  {
   "cell_type": "markdown",
   "id": "7ba966f2-eb59-4ec8-ba4a-5fffc25845bb",
   "metadata": {},
   "source": [
    "## Compile, Train and Evaluate the Model"
   ]
  },
  {
   "cell_type": "code",
   "execution_count": null,
   "id": "110671be-6636-46c9-9c3b-7da213ee90c2",
   "metadata": {},
   "outputs": [],
   "source": [
    "# Define the model - deep neural net, i.e., the number of input features and hidden nodes for each layer.\n",
    "number_input_features = len(X_train[0])\n",
    "hidden_nodes_layer1 = 8\n",
    "hidden_nodes_layer2 = 5\n",
    "\n",
    "\n",
    "nm = tf.keras.models.Sequential()\n",
    "\n",
    "# First hidden layer\n",
    "nm.add(tf.keras.layers.Dense(units = hidden_nodes_layer1, activation=\"relu\", input_dim = number_input_features))\n",
    "\n",
    "# Second hidden layer\n",
    "nm.add(tf.keras.layers.Dense(units = hidden_nodes_layer2 , activation = \"sigmoid\" ))\n",
    "\n",
    "# Output layer\n",
    "nm.add(tf.keras.layers.Dense(units=1, activation=\"sigmoid\"))\n",
    "\n",
    "# Check the structure of the model\n",
    "nm.summary()"
   ]
  },
  {
   "cell_type": "code",
   "execution_count": null,
   "id": "b1a80c68-7906-4888-b6d4-1b63bae2f208",
   "metadata": {},
   "outputs": [],
   "source": [
    "# Compile the model\n",
    "nm.compile(loss=\"binary_crossentropy\", optimizer=\"adam\", metrics=[\"accuracy\"])"
   ]
  },
  {
   "cell_type": "code",
   "execution_count": null,
   "id": "9b3dcbca-74fc-493e-b01f-1225f3cb3633",
   "metadata": {},
   "outputs": [],
   "source": [
    "# Train the model\n",
    "fit_model = nm.fit(X_train_scaled , y_train , epochs = 300)"
   ]
  },
  {
   "cell_type": "code",
   "execution_count": null,
   "id": "54d152f9-5575-4a4a-8378-1fb52c5d53d1",
   "metadata": {},
   "outputs": [],
   "source": [
    "# Evaluate the model using the test data\n",
    "model_loss, model_accuracy = nm.evaluate(X_test_scaled,y_test,verbose=2)\n",
    "print(f\"Loss: {model_loss}, Accuracy: {model_accuracy}\")"
   ]
  },
  {
   "cell_type": "markdown",
   "id": "52758051-6a06-4071-aec2-778b2cdbddc1",
   "metadata": {},
   "source": [
    "## Optimization"
   ]
  },
  {
   "cell_type": "code",
   "execution_count": null,
   "id": "1f0413be-7fc5-4339-a58b-97eb96553475",
   "metadata": {},
   "outputs": [],
   "source": [
    "# Create a method that creates a new Sequential model with hyperparameter options\n",
    "def create_model(hp):\n",
    "    nm_model = tf.keras.models.Sequential()\n",
    "\n",
    "    # Allow kerastuner to decide which activation function to use in hidden layers\n",
    "    activation = hp.Choice('activation',['relu','tanh','sigmoid'])\n",
    "\n",
    "    # Allow kerastuner to decide number of neurons in first layer\n",
    "    nm_model.add(tf.keras.layers.Dense(units=hp.Int('first_units',\n",
    "        min_value=1,\n",
    "        max_value=10,\n",
    "        step=2), activation=activation, input_dim=43))\n",
    "\n",
    "    # Allow kerastuner to decide number of hidden layers and neurons in hidden layers\n",
    "    for i in range(hp.Int('num_layers', 1, 6)):\n",
    "        nm_model.add(tf.keras.layers.Dense(units=hp.Int('units_' + str(i),\n",
    "            min_value=1,\n",
    "            max_value=10,\n",
    "            step=2),\n",
    "            activation=activation))\n",
    "\n",
    "    nm_model.add(tf.keras.layers.Dense(units=1, activation=\"sigmoid\"))\n",
    "\n",
    "    # Compile the model\n",
    "    nm_model.compile(loss=\"binary_crossentropy\", optimizer='adam', metrics=[\"accuracy\"])\n",
    "\n",
    "    return nm_model"
   ]
  },
  {
   "cell_type": "code",
   "execution_count": null,
   "id": "9dd9dc6c-3a61-4233-a042-096b7a1083a4",
   "metadata": {},
   "outputs": [],
   "source": [
    "# Import the kerastuner library\n",
    "import keras_tuner as kt\n",
    "\n",
    "tuner = kt.Hyperband(\n",
    "    create_model,\n",
    "    objective=\"val_accuracy\",\n",
    "    max_epochs=20,\n",
    "    hyperband_iterations=2)"
   ]
  },
  {
   "cell_type": "code",
   "execution_count": null,
   "id": "e9f0bd9e-28be-4bfc-b34b-0dc9f821d58a",
   "metadata": {},
   "outputs": [],
   "source": [
    "# Run the kerastuner search for best hyperparameters\n",
    "tuner.search(X_train_scaled,y_train,epochs=20,validation_data=(X_test_scaled,y_test))"
   ]
  },
  {
   "cell_type": "code",
   "execution_count": null,
   "id": "793e10f9-5a85-419f-a552-fb123d6aa8da",
   "metadata": {},
   "outputs": [],
   "source": [
    " # Get best model hyperparameters\n",
    "best_hyper = tuner.get_best_hyperparameters(1)[0]\n",
    "best_hyper.values"
   ]
  },
  {
   "cell_type": "code",
   "execution_count": null,
   "id": "fc6cb9a3-69b1-4abe-9fdd-2226730a1738",
   "metadata": {},
   "outputs": [],
   "source": [
    "best_model = tuner.get_best_models(1)[0]\n",
    "model_loss, model_accuracy = best_model.evaluate(X_test_scaled,y_test,verbose=2)\n",
    "print(f\"Loss: {model_loss}, Accuracy: {model_accuracy}\")"
   ]
  },
  {
   "cell_type": "code",
   "execution_count": null,
   "id": "0fc70144-ee20-442d-a36f-cd24a0a0a8b6",
   "metadata": {},
   "outputs": [],
   "source": [
    "# Export our model to HDF5 file\n",
    "best_model.save(\"Project4.h5\")"
   ]
  },
  {
   "cell_type": "code",
   "execution_count": null,
   "id": "cef2d570-3433-4bb0-8636-b2aa06c1382c",
   "metadata": {},
   "outputs": [],
   "source": []
  },
  {
   "cell_type": "code",
   "execution_count": null,
   "id": "39c42a61-f8f9-4adc-86a8-f35aa084c864",
   "metadata": {},
   "outputs": [],
   "source": []
  }
 ],
 "metadata": {
  "kernelspec": {
   "display_name": "Python 3 (ipykernel)",
   "language": "python",
   "name": "python3"
  },
  "language_info": {
   "codemirror_mode": {
    "name": "ipython",
    "version": 3
   },
   "file_extension": ".py",
   "mimetype": "text/x-python",
   "name": "python",
   "nbconvert_exporter": "python",
   "pygments_lexer": "ipython3",
   "version": "3.11.8"
  }
 },
 "nbformat": 4,
 "nbformat_minor": 5
}
